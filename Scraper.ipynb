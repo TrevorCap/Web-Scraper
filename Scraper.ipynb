{
 "cells": [
  {
   "cell_type": "code",
   "execution_count": 29,
   "metadata": {},
   "outputs": [],
   "source": [
    "from flask import Flask, render_template, redirect\n",
    "from splinter import Browser\n",
    "from splinter.exceptions import ElementDoesNotExist\n",
    "from bs4 import BeautifulSoup\n",
    "from flask_pymongo import PyMongo\n",
    "import pandas as pd\n",
    "import time"
   ]
  },
  {
   "cell_type": "code",
   "execution_count": 37,
   "metadata": {},
   "outputs": [],
   "source": [
    "def splintering():\n",
    "    executable_path = {'executable_path': 'C:\\ChromeDriver\\chromedriver.exe'}\n",
    "    browser = Browser('chrome', **executable_path, headless=False)\n",
    "    return browser\n",
    "\n",
    "def souping():\n",
    "    html = browser.html\n",
    "    soup = BeautifulSoup(html, 'html.parser')\n",
    "    return soup\n",
    "\n",
    "def flasking():\n",
    "    app =Flask(__name__)\n",
    "    return app\n",
    "\n",
    "def mongoing():\n",
    "    mongo = PyMongo(app, uri=\"mongodb://localhost:27017/mars\")\n",
    "    return mongo\n",
    "\n",
    "def newsing():\n",
    "    broswer = splintering()\n",
    "    url1 = 'https://mars.nasa.gov/news/'\n",
    "    browser.visit(url1)\n",
    "    time.sleep(2)\n",
    "    html = browser.html\n",
    "    soup = BeautifulSoup(html, 'html.parser')\n",
    "    news1 = soup.select_one('ul.item_list li.slide')\n",
    "    head1 = news1.find('div', class_='bottom_gradient').get_text()\n",
    "    body1 = news1.find('div', class_='article_teaser_body').get_text()\n",
    "    return head1, body1\n",
    "\n",
    "def imaging():\n",
    "    browser = splintering()\n",
    "    url2 = 'https://www.jpl.nasa.gov/spaceimages/?search=&category=Mars'\n",
    "    browser.visit(url2)\n",
    "    time.sleep(1)\n",
    "    clicker1 = browser.find_link_by_partial_text('FULL IMAGE')\n",
    "    clicker1.click()\n",
    "    time.sleep(2)\n",
    "    clicker2 = browser.find_link_by_partial_text('more info')\n",
    "    clicker2.click()\n",
    "    time.sleep(1)\n",
    "    html2 = browser.html\n",
    "    soupy = BeautifulSoup(html2, 'html.parser')\n",
    "    url3 = soupy.select_one('figure.lede a img').get('src')\n",
    "    url4 = f'https://www.jpl.nasa.gov{url3}'\n",
    "    return url4\n",
    "\n",
    "def tweeting():\n",
    "    browser = splintering()\n",
    "    url5 = 'https://twitter.com/marswxreport?lang=en'\n",
    "    browser.visit(url5)\n",
    "    time.sleep(1)\n",
    "    html3 = browser.html\n",
    "    soupiest = BeautifulSoup(html3, 'html.parser')\n",
    "    tweet = soupiest.find('div',class_='js-tweet-text-container')\n",
    "    weather = tweet.find('p').text.strip()\n",
    "    link =  tweet.find('p').find('a').text.strip()\n",
    "    weather = weather.replace(link, '')\n",
    "    tweet = weather.replace('\\n', '')\n",
    "    browser.quit()\n",
    "    return tweet\n",
    "\n",
    "def facting():\n",
    "    url6 = 'http://space-facts.com/mars/'\n",
    "    table = pd.read_html(url6)\n",
    "    table = table[0]\n",
    "    table.columns = ['Fact', 'Figure']\n",
    "    return table\n",
    "\n",
    "def scrapeitall():\n",
    "    table = facting()\n",
    "    url4 = imaging()\n",
    "    tweet = tweeting()\n",
    "    head1, body1 = newsing()\n",
    "    dictionary = {'url4': url4, 'table': table, 'tweet': tweet, 'head1': head1, 'body1': body1}\n",
    "    return dictionary"
   ]
  },
  {
   "cell_type": "code",
   "execution_count": 17,
   "metadata": {},
   "outputs": [],
   "source": [
    "executable_path = {'executable_path': 'C:\\ChromeDriver\\chromedriver.exe'}\n",
    "browser = Browser('chrome', **executable_path, headless=False)"
   ]
  },
  {
   "cell_type": "code",
   "execution_count": 18,
   "metadata": {},
   "outputs": [],
   "source": [
    "url1 = 'https://mars.nasa.gov/news/'\n",
    "browser.visit(url1)"
   ]
  },
  {
   "cell_type": "code",
   "execution_count": 19,
   "metadata": {},
   "outputs": [],
   "source": [
    "html = browser.html\n",
    "soup = BeautifulSoup(html, 'html.parser')"
   ]
  },
  {
   "cell_type": "code",
   "execution_count": 20,
   "metadata": {},
   "outputs": [],
   "source": [
    "news1 = soup.select_one('ul.item_list li.slide')\n",
    "head1 = news1.find('div', class_='bottom_gradient').get_text()\n",
    "body1 = news1.find('div', class_='article_teaser_body').get_text()"
   ]
  },
  {
   "cell_type": "code",
   "execution_count": 21,
   "metadata": {},
   "outputs": [],
   "source": [
    "url2 = 'https://www.jpl.nasa.gov/spaceimages/?search=&category=Mars'\n",
    "browser.visit(url2)"
   ]
  },
  {
   "cell_type": "code",
   "execution_count": 22,
   "metadata": {},
   "outputs": [],
   "source": [
    "clicker1 = browser.find_link_by_partial_text('FULL IMAGE')\n",
    "clicker1.click()"
   ]
  },
  {
   "cell_type": "code",
   "execution_count": 23,
   "metadata": {},
   "outputs": [],
   "source": [
    "clicker2 = browser.find_link_by_partial_text('more info')\n",
    "clicker2.click()"
   ]
  },
  {
   "cell_type": "code",
   "execution_count": 24,
   "metadata": {},
   "outputs": [],
   "source": [
    "html2 = browser.html\n",
    "soupy = BeautifulSoup(html2, 'html.parser')"
   ]
  },
  {
   "cell_type": "code",
   "execution_count": 11,
   "metadata": {},
   "outputs": [],
   "source": [
    "url3 = soupy.select_one('figure.lede a img').get('src')"
   ]
  },
  {
   "cell_type": "code",
   "execution_count": 12,
   "metadata": {},
   "outputs": [],
   "source": [
    "url4 = f'https://www.jpl.nasa.gov{url3}'"
   ]
  },
  {
   "cell_type": "code",
   "execution_count": 13,
   "metadata": {},
   "outputs": [],
   "source": [
    "url5 = 'https://twitter.com/marswxreport?lang=en'\n",
    "browser.visit(url5)"
   ]
  },
  {
   "cell_type": "code",
   "execution_count": 14,
   "metadata": {},
   "outputs": [],
   "source": [
    "html3 = browser.html\n",
    "soupiest = BeautifulSoup(html3, 'html.parser')"
   ]
  },
  {
   "cell_type": "code",
   "execution_count": 15,
   "metadata": {},
   "outputs": [],
   "source": [
    "tweet = soupiest.find('p',class_='TweetTextSize').get_text()"
   ]
  },
  {
   "cell_type": "code",
   "execution_count": 16,
   "metadata": {},
   "outputs": [],
   "source": [
    "url6 = 'http://space-facts.com/mars/'"
   ]
  },
  {
   "cell_type": "code",
   "execution_count": 17,
   "metadata": {},
   "outputs": [],
   "source": [
    "table = pd.read_html(url6)\n",
    "table = table[0]\n",
    "table.columns = ['Fact', 'Figure']"
   ]
  },
  {
   "cell_type": "code",
   "execution_count": 18,
   "metadata": {},
   "outputs": [],
   "source": [
    "htmltable = table.to_html()"
   ]
  },
  {
   "cell_type": "code",
   "execution_count": 19,
   "metadata": {},
   "outputs": [],
   "source": [
    "url7 = 'https://astrogeology.usgs.gov/search/results?q=hemisphere+enhanced&k1=target&v1=Mars'\n",
    "browser.visit(url7)"
   ]
  },
  {
   "cell_type": "code",
   "execution_count": 20,
   "metadata": {},
   "outputs": [],
   "source": [
    "html4 = browser.html\n",
    "soupiester = BeautifulSoup(html4, 'html.parser')"
   ]
  },
  {
   "cell_type": "code",
   "execution_count": 21,
   "metadata": {},
   "outputs": [],
   "source": [
    "ilinks = browser.find_by_css('a.product-item h3')"
   ]
  },
  {
   "cell_type": "code",
   "execution_count": 22,
   "metadata": {},
   "outputs": [],
   "source": [
    "hurls = []\n",
    "\n",
    "for x in range(len(ilinks)):\n",
    "    hemisphere = {}\n",
    "    browser.find_by_css('a.product-item h3')[x].click()\n",
    "    sample = browser.find_link_by_text('Sample').first\n",
    "    hemisphere['Image-URL'] = sample['href']\n",
    "    hemisphere['Title'] = browser.find_by_css('h2.title').text\n",
    "    hurls.append(hemisphere)\n",
    "    browser.back()"
   ]
  },
  {
   "cell_type": "code",
   "execution_count": 43,
   "metadata": {},
   "outputs": [],
   "source": []
  },
  {
   "cell_type": "code",
   "execution_count": 44,
   "metadata": {
    "scrolled": false
   },
   "outputs": [],
   "source": []
  },
  {
   "cell_type": "code",
   "execution_count": 41,
   "metadata": {},
   "outputs": [
    {
     "data": {
      "text/plain": [
       "{'url4': 'https://www.jpl.nasa.gov/spaceimages/images/largesize/PIA14627_hires.jpg',\n",
       " 'table':                    Fact                         Figure\n",
       " 0  Equatorial Diameter:                       6,792 km\n",
       " 1       Polar Diameter:                       6,752 km\n",
       " 2                 Mass:  6.42 x 10^23 kg (10.7% Earth)\n",
       " 3                Moons:            2 (Phobos & Deimos)\n",
       " 4       Orbit Distance:       227,943,824 km (1.52 AU)\n",
       " 5         Orbit Period:           687 days (1.9 years)\n",
       " 6  Surface Temperature:                  -153 to 20 °C\n",
       " 7         First Record:              2nd millennium BC\n",
       " 8          Recorded By:           Egyptian astronomers,\n",
       " 'tweet': 'InSight sol 167 (2019-05-17) low -100.5ºC (-148.9ºF) high -20.4ºC (-4.6ºF)\\nwinds from the SW at 4.7 m/s (10.6 mph) gusting to 13.5 m/s (30.3 mph)\\npressure at 7.50 hPapic.twitter.com/0Eqt9nN21o',\n",
       " 'head1': \"NASA's MRO Completes 60,000 Trips Around Mars\",\n",
       " 'body1': 'The orbiting spacecraft is also about to set a record for data relayed from the Martian surface.'}"
      ]
     },
     "execution_count": 41,
     "metadata": {},
     "output_type": "execute_result"
    }
   ],
   "source": []
  },
  {
   "cell_type": "code",
   "execution_count": 28,
   "metadata": {
    "collapsed": true
   },
   "outputs": [
    {
     "data": {
      "text/plain": [
       "{'url4': 'https://www.jpl.nasa.gov/spaceimages/images/largesize/PIA14627_hires.jpg',\n",
       " 'table':                    Fact                         Figure\n",
       " 0  Equatorial Diameter:                       6,792 km\n",
       " 1       Polar Diameter:                       6,752 km\n",
       " 2                 Mass:  6.42 x 10^23 kg (10.7% Earth)\n",
       " 3                Moons:            2 (Phobos & Deimos)\n",
       " 4       Orbit Distance:       227,943,824 km (1.52 AU)\n",
       " 5         Orbit Period:           687 days (1.9 years)\n",
       " 6  Surface Temperature:                  -153 to 20 °C\n",
       " 7         First Record:              2nd millennium BC\n",
       " 8          Recorded By:           Egyptian astronomers,\n",
       " 'tweet': 'InSight sol 167 (2019-05-17) low -100.5ºC (-148.9ºF) high -20.4ºC (-4.6ºF)\\nwinds from the SW at 4.7 m/s (10.6 mph) gusting to 13.5 m/s (30.3 mph)\\npressure at 7.50 hPapic.twitter.com/0Eqt9nN21o',\n",
       " 'head1': \"NASA's MRO Completes 60,000 Trips Around Mars\",\n",
       " 'body1': 'The orbiting spacecraft is also about to set a record for data relayed from the Martian surface.'}"
      ]
     },
     "execution_count": 28,
     "metadata": {},
     "output_type": "execute_result"
    }
   ],
   "source": []
  },
  {
   "cell_type": "code",
   "execution_count": null,
   "metadata": {},
   "outputs": [],
   "source": []
  }
 ],
 "metadata": {
  "kernelspec": {
   "display_name": "Python 3",
   "language": "python",
   "name": "python3"
  },
  "language_info": {
   "codemirror_mode": {
    "name": "ipython",
    "version": 3
   },
   "file_extension": ".py",
   "mimetype": "text/x-python",
   "name": "python",
   "nbconvert_exporter": "python",
   "pygments_lexer": "ipython3",
   "version": "3.7.1"
  }
 },
 "nbformat": 4,
 "nbformat_minor": 2
}
